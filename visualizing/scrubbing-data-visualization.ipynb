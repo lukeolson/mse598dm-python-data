{
 "cells": [
  {
   "cell_type": "markdown",
   "metadata": {},
   "source": [
    "<a href=\"https://colab.research.google.com/github/lukeolson/mse598dm-python-data/blob/main/visualizing/scrubbing-data-visualization.ipynb\" target=\"_parent\"><img src=\"https://colab.research.google.com/assets/colab-badge.svg\" alt=\"Open In Colab\"/></a>"
   ]
  },
  {
   "cell_type": "markdown",
   "metadata": {},
   "source": [
    "<img src=\"https://github.com/lukeolson/mse598dm-python-data/raw/main/visualizing/random_map.png\" width=\"700px;\" alt=\"quad\"/>"
   ]
  },
  {
   "cell_type": "markdown",
   "metadata": {},
   "source": [
    "#  Scrubbing data and visualizing\n",
    "\n",
    "## Objectives\n",
    "\n",
    "### Objectives\n",
    "\n",
    "1. Retrieve data and place in a pandas dataframe\n",
    "2. Determine modifications needed in the data \n",
    "3. Match the data to visualization package\n",
    "\n",
    "### Example Questions\n",
    "\n",
    "1. How can we retrieve data from a webpage?\n",
    "2. How can we parse hhtml?\n",
    "3. What is a MultiIndex in Pandas?\n",
    "4. What is a Choropleth map?\n",
    "\n",
    "## Highlevel topics\n",
    "\n",
    "- Data retrieval\n",
    "- Data storage\n",
    "- Data manipulation\n",
    "- Visualization\n",
    "\n",
    "## What to hand in\n",
    "- As far as you can get!\n",
    "- What did you learn about scrubbing data today?\n",
    "    - 1. ...\n",
    "    - 2. ...\n",
    "    - 3. ...\n",
    "\n",
    "## Synopsis\n",
    "\n",
    "You're a structural engineer working on a team that analyses the bridge infrastructure in the US.  To make a convincing argument, you are constructing a map of the current bridge conditions across the US.\n",
    "\n",
    "#### Your Task\n",
    "\n",
    "Your goal is to plot the bridge conditions at the state level.\n",
    "\n",
    "## Datasets\n",
    "\n",
    "In this session two datasets will be used:\n",
    "- Bridge Condition by Highway System 2022:\n",
    "    - https://www.fhwa.dot.gov/bridge/nbi/no10/condition22.cfm\n",
    "- Bridge Condition by County 2022:\n",
    "    - https://www.fhwa.dot.gov/bridge/nbi/no10/county19.cfm\n",
    "- In addition you will use the state/county level geo files:\n",
    "    - `us-states.json`: https://github.com/python-visualization/folium/tree/master/examples/data\n",
    "    - http://eric.clst.org/tech/usgeojson/\n",
    "\n",
    "## Getting Started"
   ]
  },
  {
   "cell_type": "markdown",
   "metadata": {},
   "source": [
    "We will introduce four new packages in this lesson:\n",
    "\n",
    "- `requests` is a package the makes URL requests *easy*.  Give it a URL and it retrieves the page.\n",
    "- `bs4` or BeautifulSoup parses an html file and places it in a convenient structure\n",
    "- `json` is a package for reading structured JSON files\n",
    "- `folium` is one of many packages that can be used to plot information on a geographical map"
   ]
  },
  {
   "cell_type": "code",
   "execution_count": null,
   "metadata": {},
   "outputs": [],
   "source": [
    "!pip install folium bs4 requests lxml"
   ]
  },
  {
   "cell_type": "code",
   "execution_count": null,
   "metadata": {},
   "outputs": [],
   "source": [
    "import folium          # visualizing maps\n",
    "import os\n",
    "import pandas as pd    # data frames\n",
    "import bs4             # parse html\n",
    "import requests        # make a url request\n",
    "import json            # structured data format\n",
    "from IPython.display import HTML, display"
   ]
  },
  {
   "cell_type": "code",
   "execution_count": null,
   "metadata": {},
   "outputs": [],
   "source": [
    "m = folium.Map(\n",
    "    location=[40.114942, -88.226492],\n",
    "    tiles='Stamen Toner',\n",
    "    #tiles=\"Stamen Terrain\",\n",
    "    zoom_start=13\n",
    ")\n",
    "\n",
    "m"
   ]
  },
  {
   "cell_type": "markdown",
   "metadata": {},
   "source": [
    "## First grab the webpage\n",
    "\n",
    "Here we'll do two things:\n",
    "\n",
    "1. retrieve the raw html of the webpage; and\n",
    "2. parse the html to make a structured `soup`"
   ]
  },
  {
   "cell_type": "code",
   "execution_count": null,
   "metadata": {},
   "outputs": [],
   "source": [
    "url = 'https://www.fhwa.dot.gov/bridge/nbi/no10/condition22.cfm'\n",
    "r = requests.get(url)                  # grab the html source\n",
    "html = r.text                          # as text\n",
    "soup = bs4.BeautifulSoup(html, 'html.parser') # make a parseable \"tree\" of html"
   ]
  },
  {
   "cell_type": "markdown",
   "metadata": {},
   "source": [
    "We can do any number of things with `soup` at this point.  We can scrub for emails, find links, extract figures, etc.  In this case we wish to find all of the tables in the html.  `<table>` and `<table class=\"something\">` are both examples of tags that we wish to find --- bs4 makes this easy -- try it with `find_all` (https://www.crummy.com/software/BeautifulSoup/bs4/doc/#navigating-using-tag-names)\n",
    "\n",
    "```\n",
    "table = ...\n",
    "```\n",
    "## <font color=\"red\"> Try it! $\\downarrow$</font>"
   ]
  },
  {
   "cell_type": "code",
   "execution_count": null,
   "metadata": {},
   "outputs": [],
   "source": [
    "table = soup.find_all('table')[0]\n",
    "print(type(table))\n",
    "display(HTML(str(table)))\n",
    "#print(str(table))"
   ]
  },
  {
   "cell_type": "markdown",
   "metadata": {},
   "source": [
    "If you have `table`, you can `find_all` on the resulting markup.\n",
    "```\n",
    "rows = table.find_all()\n",
    "```\n",
    "\n",
    "Use this to find all rows (marked with `tr`) in the table.\n",
    "\n",
    "## <font color=\"red\"> Try it! $\\downarrow$</font>"
   ]
  },
  {
   "cell_type": "code",
   "execution_count": null,
   "metadata": {},
   "outputs": [],
   "source": [
    "rows = table.find_all('tr')"
   ]
  },
  {
   "cell_type": "markdown",
   "metadata": {},
   "source": [
    "Let's print it:"
   ]
  },
  {
   "cell_type": "code",
   "execution_count": null,
   "metadata": {},
   "outputs": [],
   "source": [
    "print(rows[0])\n",
    "print(rows[1])\n",
    "print(rows[2])"
   ]
  },
  {
   "cell_type": "markdown",
   "metadata": {},
   "source": [
    "### One approach\n",
    "\n",
    "One approach is to zip through the rows, then parse each of the columns.  We may do this like the following:"
   ]
  },
  {
   "cell_type": "code",
   "execution_count": null,
   "metadata": {},
   "outputs": [],
   "source": [
    "for row in rows:\n",
    "    \n",
    "    # find all 'th' headers\n",
    "    state_name = row.find('th', {\"class\": \"left\"})\n",
    "    if state_name is not None:\n",
    "        \n",
    "        # get the state name\n",
    "        state_name = state_name.text\n",
    "        print(state_name)\n",
    "        \n",
    "        # get the next four data rows\n",
    "        count = row.findAll('td')[:4]\n",
    "        count = [int(c.text.replace(',','')) for c in count]\n",
    "        print(count)"
   ]
  },
  {
   "cell_type": "markdown",
   "metadata": {},
   "source": [
    "### Another (easier) approach\n",
    "\n",
    "The previous approach is often necessary.  Dirty data, incomplete html, different formats, etc often force us to parse the html by hand.  However in the case of a table, Pandas can be used directly:  https://pandas.pydata.org/pandas-docs/stable/reference/api/pandas.read_html.html\n",
    "\n",
    "How can we use pandas to read the soup table?\n",
    "## <font color=\"red\"> Try it! $\\downarrow$</font>"
   ]
  },
  {
   "cell_type": "code",
   "execution_count": null,
   "metadata": {},
   "outputs": [],
   "source": [
    "df = pd.read_html(str(table))[0]\n",
    "\n",
    "# even easier:\n",
    "# df = pd.read_html(url)[0]"
   ]
  },
  {
   "cell_type": "markdown",
   "metadata": {},
   "source": [
    "Print the dataframe:"
   ]
  },
  {
   "cell_type": "code",
   "execution_count": null,
   "metadata": {},
   "outputs": [],
   "source": [
    "df"
   ]
  },
  {
   "cell_type": "markdown",
   "metadata": {},
   "source": [
    "Now lets just take the state name and the bridge counts to make the dataframe a bit more manageable:"
   ]
  },
  {
   "cell_type": "code",
   "execution_count": null,
   "metadata": {},
   "outputs": [],
   "source": [
    "dfcounts = df[['State','Bridge Counts']].copy()\n",
    "dfcounts"
   ]
  },
  {
   "cell_type": "markdown",
   "metadata": {},
   "source": [
    "### A MultiIndex?!\n",
    "\n",
    "If we take a look a the column names we run into another type in Pandas: a MultiIndex."
   ]
  },
  {
   "cell_type": "code",
   "execution_count": null,
   "metadata": {},
   "outputs": [],
   "source": [
    "dfcounts.columns"
   ]
  },
  {
   "cell_type": "markdown",
   "metadata": {},
   "source": [
    "One easy thing to do in this case (mainly to make referencing a specific column easier) is to reduce to the column header to a simple `Index`.  Here we'll just use the second level of the MultiIndex:"
   ]
  },
  {
   "cell_type": "code",
   "execution_count": null,
   "metadata": {},
   "outputs": [],
   "source": [
    "dfcounts.columns = dfcounts.columns.get_level_values(1)\n",
    "print(dfcounts.columns)\n",
    "dfcounts"
   ]
  },
  {
   "cell_type": "markdown",
   "metadata": {},
   "source": [
    "### Look ahead\n",
    "\n",
    "Looking ahead to our mapping, we'll be using a GEO file, and each state name will be in the form of `Illinois` or `New Mexico`, etc.  However, in the data frame of bridge data, notice that each state name is in all caps. To fix this, we'll use the `.title()` command and return to lesson1:"
   ]
  },
  {
   "cell_type": "code",
   "execution_count": null,
   "metadata": {},
   "outputs": [],
   "source": [
    "'NEW MEXICO'.title()\n"
   ]
  },
  {
   "cell_type": "code",
   "execution_count": null,
   "metadata": {},
   "outputs": [],
   "source": [
    "'U.S. VIRGIN ISLANDS'.title()"
   ]
  },
  {
   "cell_type": "markdown",
   "metadata": {},
   "source": [
    "\n",
    "Let's use this to change the string in the `State` column:\n",
    "\n",
    "## <font color=\"red\"> Try it! $\\downarrow$</font>"
   ]
  },
  {
   "cell_type": "code",
   "execution_count": null,
   "metadata": {},
   "outputs": [],
   "source": [
    "def f(x):\n",
    "    try:\n",
    "        y = x.title()\n",
    "    except:\n",
    "        raise ValueError('Oops!')\n",
    "    return y\n",
    "dfcounts['State'] = #FIXME"
   ]
  },
  {
   "cell_type": "markdown",
   "metadata": {},
   "source": [
    "Now look at our modified data:"
   ]
  },
  {
   "cell_type": "code",
   "execution_count": null,
   "metadata": {},
   "outputs": [],
   "source": [
    "dfcounts"
   ]
  },
  {
   "cell_type": "markdown",
   "metadata": {},
   "source": [
    "# Your Turn:  Displaying the Data on a Map\n",
    "\n",
    "Your job is to visualize the information about the bridges on a map (choropleth visualization).  To get you started, this section will go through some examples first of some basic maps with other data.  Go through these examples to get an understanding for the map visualization then complete the 2 tasks at the bottom."
   ]
  },
  {
   "cell_type": "markdown",
   "metadata": {},
   "source": [
    "## Example 1:  Our first map\n",
    "\n",
    "Let's make a map instance with `folium`. Here we set the lat/long coordinates to the Beckman Quad.  The tiles parameter is used to determine they style of the map.  \n",
    "\n",
    "(You can use `folium.Map?` in this notebook to experiment with different map types!).  "
   ]
  },
  {
   "cell_type": "code",
   "execution_count": null,
   "metadata": {},
   "outputs": [],
   "source": [
    "folium.Map?"
   ]
  },
  {
   "cell_type": "code",
   "execution_count": null,
   "metadata": {
    "scrolled": true
   },
   "outputs": [],
   "source": [
    "m = folium.Map(\n",
    "    location=[40.114942, -88.226492],\n",
    "    tiles='Stamen Toner',\n",
    "    zoom_start=13\n",
    ")\n",
    "\n",
    "m"
   ]
  },
  {
   "cell_type": "markdown",
   "metadata": {},
   "source": [
    "The above example illustrated a map for some specific lat/long coordinates.  In practice, we'll want to display some information on the map.  We'll start in the next example with a simple visualization of data on a map."
   ]
  },
  {
   "cell_type": "markdown",
   "metadata": {},
   "source": [
    "## Example 2:  Starting Map with State Data (3 states)\n",
    "\n",
    "Let's start with a basic visualization of data for 3 states: Iowa, Illinois, and Colorado.  Let's assume we have the following dataframe with some data for a few states. "
   ]
  },
  {
   "cell_type": "code",
   "execution_count": null,
   "metadata": {},
   "outputs": [],
   "source": [
    "df = pd.DataFrame(\n",
    "    [\n",
    "        ['Iowa', 'Illinois', 'Colorado'],\n",
    "        [5, 1, 100]],\n",
    "    index=['State', 'Some Value']\n",
    ").T\n",
    "\n",
    "print(df)"
   ]
  },
  {
   "cell_type": "markdown",
   "metadata": {},
   "source": [
    "### State JSON Info\n",
    "\n",
    "To plot on map with Folium, a JSON file is used to describe the polygons that will represent each state.  For example,  Illinois is composed of a list of coordinates -- [check it out](https://raw.githubusercontent.com/python-visualization/folium/master/examples/data/us-states.json):"
   ]
  },
  {
   "cell_type": "code",
   "execution_count": null,
   "metadata": {},
   "outputs": [],
   "source": [
    "url = 'https://raw.githubusercontent.com/python-visualization/folium/master/examples/data/us-states.json'\n",
    "r = requests.get(url) # grab the source from the url\n",
    "state_geo = r.json()  # convert to `json`\n",
    "state_geo['features'][12]"
   ]
  },
  {
   "cell_type": "markdown",
   "metadata": {},
   "source": [
    "## Just plot it\n",
    "We could just plot this polygon data on our own:"
   ]
  },
  {
   "cell_type": "code",
   "execution_count": null,
   "metadata": {},
   "outputs": [],
   "source": [
    "import matplotlib.pyplot as plt\n",
    "import numpy as np\n",
    "coords = state_geo['features'][12]['geometry']['coordinates'][0]\n",
    "coords = np.array(coords)\n",
    "plt.plot(coords[:,0], coords[:,1], '-+', ms=3)\n",
    "coords = state_geo['features'][15]['geometry']['coordinates'][0]\n",
    "coords = np.array(coords)\n",
    "plt.plot(coords[:,0], coords[:,1], '-+', ms=3)\n",
    "coords = state_geo['features'][25]['geometry']['coordinates'][0]\n",
    "coords = np.array(coords)\n",
    "plt.plot(coords[:,0], coords[:,1], '-+', ms=3)\n",
    "plt.axis('equal')"
   ]
  },
  {
   "cell_type": "markdown",
   "metadata": {},
   "source": [
    "We printed just Illinois above, but  `state_geo` contains the polygons for each of the states.\n",
    "\n",
    "### Creating Map with State Data\n",
    "\n",
    "To create a Choropleth, we first initialize a map with folium like we did in the basic example above.  Then, we call `folium.Choropleth()`. \n",
    "\n",
    "**What is a Choropleth?** https://en.wikipedia.org/wiki/Choropleth_map\n",
    "\n",
    "The call to set the `Choropleth` map has 4 important entries:\n",
    "\n",
    "- `geo_data=state_geo`, here we set the geo data.\n",
    "- `data=df`, here we set the data *source* (the stuff we'll plot on each state)\n",
    "- `columns=['State', 'Some Value']`, where to find the state name or state id and the numbers to visualize (in `data`)\n",
    "- `key_on='feature.properties.name'`, how the entries are represented in the JSON.  For the state geo_data json file, this will be either `'feature.id'` (abbreviation) or `'feature.properties.name'` (name), depending on whether our dataframe uses state names or abbreviations. \n",
    "\n",
    "The other parameters control specifics of looks of the visualization (opacity, coloring)."
   ]
  },
  {
   "cell_type": "code",
   "execution_count": null,
   "metadata": {},
   "outputs": [],
   "source": [
    "m = folium.Map(location=[44, -102], zoom_start=3)\n",
    "\n",
    "folium.Choropleth(\n",
    "    geo_data=state_geo,\n",
    "    name='choropleth',\n",
    "    data=#FIXME,\n",
    "    columns=#FIXME,\n",
    "    key_on=#FIXME,\n",
    "    fill_color='Blues',\n",
    "    fill_opacity=0.6,\n",
    "    line_opacity=0.2,\n",
    ").add_to(m)\n",
    "\n",
    "folium.LayerControl().add_to(m)\n",
    "\n",
    "m"
   ]
  },
  {
   "cell_type": "markdown",
   "metadata": {},
   "source": [
    "## Example 3:  Full Example with Unemployment Data\n",
    "\n",
    "For this next part we'll take straight out of the Folium examples.\n",
    "\n",
    "As before, we use the same json state geo data.  This example reads in unemployment data into a pandas dataframe.  The call to `folium.Choropleth()` is roughly the same as the above, except this dataframe, `state_data`, uses abbreviations not full names, so `key_on=` a different value.  Additionally, the coloring is a little different and the colorbar is labeled.\n",
    "\n",
    "## <font color=\"red\"> Try it! $\\downarrow$</font>"
   ]
  },
  {
   "cell_type": "code",
   "execution_count": null,
   "metadata": {},
   "outputs": [],
   "source": [
    "url = 'https://raw.githubusercontent.com/python-visualization/folium/master/examples/data/US_Unemployment_Oct2012.csv'\n",
    "state_data = pd.read_csv(url)\n",
    "state_data[:5]"
   ]
  },
  {
   "cell_type": "code",
   "execution_count": null,
   "metadata": {},
   "outputs": [],
   "source": [
    "url = 'https://raw.githubusercontent.com/python-visualization/folium/master/examples/data/us-states.json'\n",
    "state_geo = requests.get(url).json()\n",
    "\n",
    "url = 'https://raw.githubusercontent.com/python-visualization/folium/master/examples/data/US_Unemployment_Oct2012.csv'\n",
    "state_data = pd.read_csv(url)\n",
    "\n",
    "m = folium.Map(location=[48, -102], zoom_start=5)\n",
    "\n",
    "folium.Choropleth(\n",
    "    geo_data=state_geo,\n",
    "    name='choropleth',\n",
    "    # vvvv fill this in\n",
    "    data=#FIXME,\n",
    "    columns=#FIXME,\n",
    "    key_on=#FIXME,\n",
    "    #######\n",
    "    fill_color='YlGn',\n",
    "    fill_opacity=0.7,\n",
    "    line_opacity=0.2,\n",
    "    legend_name='Unemployment Rate (%)'\n",
    ").add_to(m)\n",
    "\n",
    "folium.LayerControl().add_to(m)\n",
    "\n",
    "m"
   ]
  },
  {
   "cell_type": "markdown",
   "metadata": {},
   "source": [
    "\n",
    "# Your Tasks:\n",
    "Now that you've seen some examples, it's time for you to visualize the bridge data that is the topic of this lesson.\n",
    "\n",
    "Your task is to create 2 different choropleth visualizations based on the bridge data (each is described below)."
   ]
  },
  {
   "cell_type": "markdown",
   "metadata": {},
   "source": [
    "## Task \\#1:\n",
    "\n",
    "Create a choropleth visualization that illustrates the number of bridges in each state.\n",
    "\n",
    "Hint:  Think about what the visualization should look like based on the data.  If your visualized results are not as expected, it may help to look at the dataframe to identify what is happening.  Notice any rows that aren't simply state data?\n",
    "## <font color=\"red\"> Try it! $\\downarrow$</font>"
   ]
  },
  {
   "cell_type": "code",
   "execution_count": null,
   "metadata": {},
   "outputs": [],
   "source": [
    "dfcounts[-5:]"
   ]
  },
  {
   "cell_type": "code",
   "execution_count": null,
   "metadata": {},
   "outputs": [],
   "source": [
    "url = 'https://raw.githubusercontent.com/python-visualization/folium/master/examples/data/us-states.json'\n",
    "state_geo = requests.get(url).json()\n",
    "\n",
    "m = folium.Map(location=[48, -102], zoom_start=3)\n",
    "\n",
    "folium.Choropleth(\n",
    "    geo_data=state_geo,\n",
    "    name='choropleth',\n",
    "    # fill this in vvvv\n",
    "    data=#FIXME,\n",
    "    columns=#FIXME,\n",
    "    key_on=#FIXME,\n",
    "    fill_color='YlGn',\n",
    "    fill_opacity=0.7,\n",
    "    line_opacity=0.2,\n",
    ").add_to(m)\n",
    "\n",
    "folium.LayerControl().add_to(m)\n",
    "\n",
    "m"
   ]
  },
  {
   "cell_type": "markdown",
   "metadata": {},
   "source": [
    "## Task \\#2\n",
    "\n",
    "Create a different choropleth visualization that illustrates the percentage of bridges in each state rated as poor.  \n",
    "\n",
    "Hint:  this value is not currently in the dataframe of bridge data -- you'll need to compute it first\n",
    "\n",
    "## <font color=\"red\"> Try it! $\\downarrow$</font>"
   ]
  },
  {
   "cell_type": "code",
   "execution_count": null,
   "metadata": {},
   "outputs": [],
   "source": [
    "dfcounts['Percent in Poor Condition'] = #FIXME"
   ]
  },
  {
   "cell_type": "code",
   "execution_count": null,
   "metadata": {},
   "outputs": [],
   "source": [
    "m = folium.Map(location=[48, -102], zoom_start=3)\n",
    "\n",
    "folium.Choropleth(\n",
    "    geo_data=state_geo,\n",
    "    name='choropleth',\n",
    "    data=#FIXME,\n",
    "    columns=#FIXME,\n",
    "    key_on=#FIXME,\n",
    "    fill_color='YlGn',\n",
    "    fill_opacity=0.7,\n",
    "    line_opacity=0.2,\n",
    "    legend_name='Percent of Bridges Ranked as Poor (%)'\n",
    ").add_to(m)\n",
    "\n",
    "folium.LayerControl().add_to(m)\n",
    "m"
   ]
  },
  {
   "cell_type": "code",
   "execution_count": null,
   "metadata": {},
   "outputs": [],
   "source": []
  }
 ],
 "metadata": {
  "kernelspec": {
   "display_name": "Python 3 (ipykernel)",
   "language": "python",
   "name": "python3"
  },
  "language_info": {
   "codemirror_mode": {
    "name": "ipython",
    "version": 3
   },
   "file_extension": ".py",
   "mimetype": "text/x-python",
   "name": "python",
   "nbconvert_exporter": "python",
   "pygments_lexer": "ipython3",
   "version": "3.10.9"
  }
 },
 "nbformat": 4,
 "nbformat_minor": 4
}
